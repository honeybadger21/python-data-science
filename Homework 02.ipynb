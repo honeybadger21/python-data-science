{
 "cells": [
  {
   "cell_type": "markdown",
   "metadata": {},
   "source": [
    "##### This notebook is created as a homework submission for Data Science Programing Course offered at The University of Texas at Austin by the McCombs School of Business as a summer core for MS Business Analytics"
   ]
  },
  {
   "cell_type": "markdown",
   "metadata": {},
   "source": [
    "#### Prompt\n",
    "We will analyze restaurant inspections in New York City, starting November\n",
    "1, 2014 and ending January 31, 2015. The data is in the file NYC Restaurants.csv.\n",
    "Setup First, read in this data using:\n",
    "• df = pd.read csv(’NYC Restaurants.csv’, dtype=str).\n",
    "This ensures that all fields are read in as strings, and loading the data is relatively fast."
   ]
  },
  {
   "cell_type": "code",
   "execution_count": 1,
   "metadata": {
    "scrolled": true
   },
   "outputs": [
    {
     "data": {
      "text/html": [
       "<div>\n",
       "<style scoped>\n",
       "    .dataframe tbody tr th:only-of-type {\n",
       "        vertical-align: middle;\n",
       "    }\n",
       "\n",
       "    .dataframe tbody tr th {\n",
       "        vertical-align: top;\n",
       "    }\n",
       "\n",
       "    .dataframe thead th {\n",
       "        text-align: right;\n",
       "    }\n",
       "</style>\n",
       "<table border=\"1\" class=\"dataframe\">\n",
       "  <thead>\n",
       "    <tr style=\"text-align: right;\">\n",
       "      <th></th>\n",
       "      <th>CAMIS</th>\n",
       "      <th>DBA</th>\n",
       "      <th>BORO</th>\n",
       "      <th>BUILDING</th>\n",
       "      <th>STREET</th>\n",
       "      <th>ZIPCODE</th>\n",
       "      <th>PHONE</th>\n",
       "      <th>CUISINE DESCRIPTION</th>\n",
       "      <th>INSPECTION DATE</th>\n",
       "      <th>ACTION</th>\n",
       "      <th>VIOLATION CODE</th>\n",
       "      <th>VIOLATION DESCRIPTION</th>\n",
       "      <th>CRITICAL FLAG</th>\n",
       "      <th>SCORE</th>\n",
       "      <th>GRADE</th>\n",
       "      <th>GRADE DATE</th>\n",
       "      <th>RECORD DATE</th>\n",
       "      <th>INSPECTION TYPE</th>\n",
       "    </tr>\n",
       "  </thead>\n",
       "  <tbody>\n",
       "    <tr>\n",
       "      <th>0</th>\n",
       "      <td>30112340</td>\n",
       "      <td>WENDY'S</td>\n",
       "      <td>BROOKLYN</td>\n",
       "      <td>469</td>\n",
       "      <td>FLATBUSH AVENUE</td>\n",
       "      <td>11225</td>\n",
       "      <td>7182875005</td>\n",
       "      <td>Hamburgers</td>\n",
       "      <td>12/30/2014</td>\n",
       "      <td>Violations were cited in the following area(s).</td>\n",
       "      <td>06C</td>\n",
       "      <td>Food not protected from potential source of co...</td>\n",
       "      <td>Critical</td>\n",
       "      <td>8</td>\n",
       "      <td>A</td>\n",
       "      <td>12/30/2014</td>\n",
       "      <td>02/12/2015</td>\n",
       "      <td>Cycle Inspection / Re-inspection</td>\n",
       "    </tr>\n",
       "    <tr>\n",
       "      <th>1</th>\n",
       "      <td>30112340</td>\n",
       "      <td>WENDY'S</td>\n",
       "      <td>BROOKLYN</td>\n",
       "      <td>469</td>\n",
       "      <td>FLATBUSH AVENUE</td>\n",
       "      <td>11225</td>\n",
       "      <td>7182875005</td>\n",
       "      <td>Hamburgers</td>\n",
       "      <td>12/30/2014</td>\n",
       "      <td>Violations were cited in the following area(s).</td>\n",
       "      <td>10F</td>\n",
       "      <td>Non-food contact surface improperly constructe...</td>\n",
       "      <td>Not Critical</td>\n",
       "      <td>8</td>\n",
       "      <td>A</td>\n",
       "      <td>12/30/2014</td>\n",
       "      <td>02/12/2015</td>\n",
       "      <td>Cycle Inspection / Re-inspection</td>\n",
       "    </tr>\n",
       "    <tr>\n",
       "      <th>2</th>\n",
       "      <td>30112340</td>\n",
       "      <td>WENDY'S</td>\n",
       "      <td>BROOKLYN</td>\n",
       "      <td>469</td>\n",
       "      <td>FLATBUSH AVENUE</td>\n",
       "      <td>11225</td>\n",
       "      <td>7182875005</td>\n",
       "      <td>Hamburgers</td>\n",
       "      <td>11/13/2014</td>\n",
       "      <td>Violations were cited in the following area(s).</td>\n",
       "      <td>04H</td>\n",
       "      <td>Raw, cooked or prepared food is adulterated, c...</td>\n",
       "      <td>Critical</td>\n",
       "      <td>16</td>\n",
       "      <td>NaN</td>\n",
       "      <td>NaN</td>\n",
       "      <td>02/12/2015</td>\n",
       "      <td>Cycle Inspection / Initial Inspection</td>\n",
       "    </tr>\n",
       "  </tbody>\n",
       "</table>\n",
       "</div>"
      ],
      "text/plain": [
       "      CAMIS      DBA      BORO BUILDING           STREET ZIPCODE       PHONE  \\\n",
       "0  30112340  WENDY'S  BROOKLYN      469  FLATBUSH AVENUE   11225  7182875005   \n",
       "1  30112340  WENDY'S  BROOKLYN      469  FLATBUSH AVENUE   11225  7182875005   \n",
       "2  30112340  WENDY'S  BROOKLYN      469  FLATBUSH AVENUE   11225  7182875005   \n",
       "\n",
       "  CUISINE DESCRIPTION INSPECTION DATE  \\\n",
       "0          Hamburgers      12/30/2014   \n",
       "1          Hamburgers      12/30/2014   \n",
       "2          Hamburgers      11/13/2014   \n",
       "\n",
       "                                            ACTION VIOLATION CODE  \\\n",
       "0  Violations were cited in the following area(s).            06C   \n",
       "1  Violations were cited in the following area(s).            10F   \n",
       "2  Violations were cited in the following area(s).            04H   \n",
       "\n",
       "                               VIOLATION DESCRIPTION CRITICAL FLAG SCORE  \\\n",
       "0  Food not protected from potential source of co...      Critical     8   \n",
       "1  Non-food contact surface improperly constructe...  Not Critical     8   \n",
       "2  Raw, cooked or prepared food is adulterated, c...      Critical    16   \n",
       "\n",
       "  GRADE  GRADE DATE RECORD DATE                        INSPECTION TYPE  \n",
       "0     A  12/30/2014  02/12/2015       Cycle Inspection / Re-inspection  \n",
       "1     A  12/30/2014  02/12/2015       Cycle Inspection / Re-inspection  \n",
       "2   NaN         NaN  02/12/2015  Cycle Inspection / Initial Inspection  "
      ]
     },
     "execution_count": 1,
     "metadata": {},
     "output_type": "execute_result"
    }
   ],
   "source": [
    "import pandas as pd\n",
    "df = pd.read_csv(\"NYC_Restaurants.csv\", dtype = str, index_col = [0])\n",
    "df.head(3)"
   ]
  },
  {
   "cell_type": "markdown",
   "metadata": {},
   "source": [
    "#### Task 1: Create a unique name for each restaurant. \n",
    "On the DataFrame created above, add a new column to your DataFrame, called ’RESTAURANT’, that combines DBA, BUILDING, STREET, ZIPCODE, and BORO fields. For example, “WENDY’S 469 FLATBUSH AVENUE 11225 BROOKLYN”. Print the first 10 values of the RESTAURANT column of your DataFrame."
   ]
  },
  {
   "cell_type": "code",
   "execution_count": 2,
   "metadata": {
    "scrolled": true
   },
   "outputs": [
    {
     "data": {
      "text/html": [
       "<div>\n",
       "<style scoped>\n",
       "    .dataframe tbody tr th:only-of-type {\n",
       "        vertical-align: middle;\n",
       "    }\n",
       "\n",
       "    .dataframe tbody tr th {\n",
       "        vertical-align: top;\n",
       "    }\n",
       "\n",
       "    .dataframe thead th {\n",
       "        text-align: right;\n",
       "    }\n",
       "</style>\n",
       "<table border=\"1\" class=\"dataframe\">\n",
       "  <thead>\n",
       "    <tr style=\"text-align: right;\">\n",
       "      <th></th>\n",
       "      <th>RESTAURANT</th>\n",
       "    </tr>\n",
       "  </thead>\n",
       "  <tbody>\n",
       "    <tr>\n",
       "      <th>0</th>\n",
       "      <td>WENDY'S 469 FLATBUSH AVENUE 11225 BROOKLYN</td>\n",
       "    </tr>\n",
       "    <tr>\n",
       "      <th>1</th>\n",
       "      <td>WENDY'S 469 FLATBUSH AVENUE 11225 BROOKLYN</td>\n",
       "    </tr>\n",
       "    <tr>\n",
       "      <th>2</th>\n",
       "      <td>WENDY'S 469 FLATBUSH AVENUE 11225 BROOKLYN</td>\n",
       "    </tr>\n",
       "    <tr>\n",
       "      <th>3</th>\n",
       "      <td>WENDY'S 469 FLATBUSH AVENUE 11225 BROOKLYN</td>\n",
       "    </tr>\n",
       "    <tr>\n",
       "      <th>4</th>\n",
       "      <td>WENDY'S 469 FLATBUSH AVENUE 11225 BROOKLYN</td>\n",
       "    </tr>\n",
       "    <tr>\n",
       "      <th>5</th>\n",
       "      <td>TOV KOSHER KITCHEN 97-22 63 ROAD 11374 QUEENS</td>\n",
       "    </tr>\n",
       "    <tr>\n",
       "      <th>6</th>\n",
       "      <td>TOV KOSHER KITCHEN 97-22 63 ROAD 11374 QUEENS</td>\n",
       "    </tr>\n",
       "    <tr>\n",
       "      <th>7</th>\n",
       "      <td>TOV KOSHER KITCHEN 97-22 63 ROAD 11374 QUEENS</td>\n",
       "    </tr>\n",
       "    <tr>\n",
       "      <th>8</th>\n",
       "      <td>TOV KOSHER KITCHEN 97-22 63 ROAD 11374 QUEENS</td>\n",
       "    </tr>\n",
       "    <tr>\n",
       "      <th>9</th>\n",
       "      <td>BRUNOS ON THE BOULEVARD 8825 ASTORIA BOULEVARD...</td>\n",
       "    </tr>\n",
       "  </tbody>\n",
       "</table>\n",
       "</div>"
      ],
      "text/plain": [
       "                                          RESTAURANT\n",
       "0         WENDY'S 469 FLATBUSH AVENUE 11225 BROOKLYN\n",
       "1         WENDY'S 469 FLATBUSH AVENUE 11225 BROOKLYN\n",
       "2         WENDY'S 469 FLATBUSH AVENUE 11225 BROOKLYN\n",
       "3         WENDY'S 469 FLATBUSH AVENUE 11225 BROOKLYN\n",
       "4         WENDY'S 469 FLATBUSH AVENUE 11225 BROOKLYN\n",
       "5      TOV KOSHER KITCHEN 97-22 63 ROAD 11374 QUEENS\n",
       "6      TOV KOSHER KITCHEN 97-22 63 ROAD 11374 QUEENS\n",
       "7      TOV KOSHER KITCHEN 97-22 63 ROAD 11374 QUEENS\n",
       "8      TOV KOSHER KITCHEN 97-22 63 ROAD 11374 QUEENS\n",
       "9  BRUNOS ON THE BOULEVARD 8825 ASTORIA BOULEVARD..."
      ]
     },
     "execution_count": 2,
     "metadata": {},
     "output_type": "execute_result"
    }
   ],
   "source": [
    "# Combining columns to make the final 'RESTAURANT' column\n",
    "\n",
    "df['RESTAURANT'] = df['DBA'] + \" \" + df['BUILDING'] + \" \" + df[\n",
    "                                'STREET'] + \" \" + df['ZIPCODE'] + \" \" + df['BORO']\n",
    "\n",
    "df[['RESTAURANT']][:10]"
   ]
  },
  {
   "cell_type": "markdown",
   "metadata": {},
   "source": [
    "#### Task 2: How many restaurants are included in the data?\n",
    "Careful now:\n",
    "• A “Subway” in one particular address (i.e., building, street, zipcode, and boro) counts as one restaurant; don’t combine all Subways into one restaurant!\n",
    "• The data can have multiple violations for the same restaurant!"
   ]
  },
  {
   "cell_type": "code",
   "execution_count": 3,
   "metadata": {},
   "outputs": [
    {
     "data": {
      "text/plain": [
       "10114"
      ]
     },
     "execution_count": 3,
     "metadata": {},
     "output_type": "execute_result"
    }
   ],
   "source": [
    "# As there are multiple enteries for every restaurant, we need to take unique\n",
    "df['RESTAURANT'].nunique()"
   ]
  },
  {
   "cell_type": "markdown",
   "metadata": {},
   "source": [
    "#### Task 3: How many chains are there? \n",
    "Let us define a chain to be the same restaurant name occurring in at least two different (building, street, zipcode, boro) addresses (i.e., one DBA with multiple restaurant locations).\n",
    "You’ll see multiple versions of the name ”DUNKIN DONUTS”. Just act as if they are different chains."
   ]
  },
  {
   "cell_type": "code",
   "execution_count": 4,
   "metadata": {},
   "outputs": [
    {
     "data": {
      "text/plain": [
       "368"
      ]
     },
     "execution_count": 4,
     "metadata": {},
     "output_type": "execute_result"
    }
   ],
   "source": [
    "# Generating a list of unique Restaurants along with the respective DBA \n",
    "# column and getting the count for each DBA\n",
    "\n",
    "chains = df.drop_duplicates('RESTAURANT')['DBA'].value_counts()\n",
    "len(chains[chains>1])"
   ]
  },
  {
   "cell_type": "markdown",
   "metadata": {},
   "source": [
    "#### Task 4: Plot a bar graph of the top 20 most popular chains.\n",
    "We already have the chains from the previous problem. Count the number of restaurants for each chain as a measure of its popularity."
   ]
  },
  {
   "cell_type": "code",
   "execution_count": 5,
   "metadata": {
    "scrolled": true
   },
   "outputs": [
    {
     "data": {
      "text/plain": [
       "<matplotlib.axes._subplots.AxesSubplot at 0x7fbd1fcca290>"
      ]
     },
     "execution_count": 5,
     "metadata": {},
     "output_type": "execute_result"
    },
    {
     "data": {
      "image/png": "[encoded data removed]",
      "text/plain": [
       "<Figure size 432x288 with 1 Axes>"
      ]
     },
     "metadata": {
      "needs_background": "light"
     },
     "output_type": "display_data"
    }
   ],
   "source": [
    "# Plotting the top 20 chains\n",
    "\n",
    "chains[chains>1][:20].plot(kind = \"bar\")"
   ]
  },
  {
   "cell_type": "markdown",
   "metadata": {},
   "source": [
    "#### Task 5: What fraction of all restaurants are chain restaurants? \n",
    "You should think of a restaurant as being one restaurant at one location. So “Wendy’s 5th Street” and “Wendy’s on 10th Street” are two different restaurants. Essentially a restaurant is what you defined in Q1."
   ]
  },
  {
   "cell_type": "code",
   "execution_count": 6,
   "metadata": {},
   "outputs": [
    {
     "data": {
      "text/plain": [
       "0.16472216729286138"
      ]
     },
     "execution_count": 6,
     "metadata": {},
     "output_type": "execute_result"
    }
   ],
   "source": [
    "chains[chains>1].values.sum()/df['RESTAURANT'].nunique()\n",
    "\n",
    "# Numerator is the number of unique chain restaurants & denominator is the unique restaurants"
   ]
  },
  {
   "cell_type": "markdown",
   "metadata": {},
   "source": [
    "#### Task 6: Plot the number of non-chain restaurants in each\n",
    "boro. First, we need to figure out all the non-chain restaurants, then select out only those restaurants, and finally plot the number of such restaurants by boro. Make sure to look at the plot; we don’t want to see... oh... the “missing” boro."
   ]
  },
  {
   "cell_type": "code",
   "execution_count": 7,
   "metadata": {},
   "outputs": [
    {
     "data": {
      "text/plain": [
       "<matplotlib.axes._subplots.AxesSubplot at 0x7fbd21318910>"
      ]
     },
     "execution_count": 7,
     "metadata": {},
     "output_type": "execute_result"
    },
    {
     "data": {
      "image/png": "[encoded data removed]",
      "text/plain": [
       "<Figure size 432x288 with 1 Axes>"
      ]
     },
     "metadata": {
      "needs_background": "light"
     },
     "output_type": "display_data"
    }
   ],
   "source": [
    "# Taking the non chain restaurants with chain = 1 i.e. no chain\n",
    "new = chains[chains==1]\n",
    "\n",
    "# Function to check if given restaurant is non-chain\n",
    "def finder_non_chain_restaurant(x):\n",
    "    return x in new\n",
    "\n",
    "# Mask to check if list of restaurants are non-chain\n",
    "mask = list(map(finder_non_chain_restaurant, df['DBA']))\n",
    "non_chain_restaurant_by_boro = df[mask][['RESTAURANT', 'DBA', 'BORO']].drop_duplicates()\n",
    "\n",
    "# Finding the missing\n",
    "mask2 = non_chain_restaurant_by_boro['BORO'] != 'Missing'\n",
    "\n",
    "non_chain_restaurant_by_boro_count = non_chain_restaurant_by_boro[mask2]['BORO'].value_counts()\n",
    "non_chain_restaurant_by_boro_count.plot.bar()"
   ]
  },
  {
   "cell_type": "markdown",
   "metadata": {},
   "source": [
    "#### Task 7: Plot the fraction of non-chain restaurants in each boro. \n",
    "The boro with the most non-chain restaurants might just be the boro with the most restaurants in general. If we want to find the boro that attracts the most “independent” restauranteurs, we must divide the number of non-chain restaurants by the total number of restaurants in the boro. Plot this.\n",
    "Is the boro with the most independent restaurants also the one with the highest ratio of independent restaurants?"
   ]
  },
  {
   "cell_type": "code",
   "execution_count": 8,
   "metadata": {
    "scrolled": true
   },
   "outputs": [
    {
     "data": {
      "text/plain": [
       "<matplotlib.axes._subplots.AxesSubplot at 0x7fbd214ab410>"
      ]
     },
     "execution_count": 8,
     "metadata": {},
     "output_type": "execute_result"
    },
    {
     "data": {
      "image/png": "[encoded data removed]",
      "text/plain": [
       "<Figure size 432x288 with 1 Axes>"
      ]
     },
     "metadata": {
      "needs_background": "light"
     },
     "output_type": "display_data"
    }
   ],
   "source": [
    "total = df[df.BORO != \"Missing\"].drop_duplicates('RESTAURANT')['BORO'].value_counts()\n",
    "(non_chain_restaurant_by_boro_count/total).sort_values().plot(kind = \"bar\")\n",
    "\n",
    "# Numerator is non-chain by boro and denominator is the total restaurants by boro"
   ]
  },
  {
   "cell_type": "code",
   "execution_count": 9,
   "metadata": {},
   "outputs": [
    {
     "data": {
      "text/plain": [
       "<matplotlib.axes._subplots.AxesSubplot at 0x7fbd1fcc5f10>"
      ]
     },
     "execution_count": 9,
     "metadata": {},
     "output_type": "execute_result"
    },
    {
     "data": {
      "image/png": "[encoded data removed]",
      "text/plain": [
       "<Figure size 432x288 with 1 Axes>"
      ]
     },
     "metadata": {
      "needs_background": "light"
     },
     "output_type": "display_data"
    }
   ],
   "source": [
    "# Plot for total restaurants by boro\n",
    "\n",
    "total[total.index != \"Missing\"].sort_values().plot(kind = \"bar\")"
   ]
  },
  {
   "cell_type": "markdown",
   "metadata": {},
   "source": [
    "#### NOTE\n",
    "\n",
    "Boro with the most number of independent restaurants = Manhattan\n",
    "\n",
    "Boro with the highest ratio of independent restaurants = Brooklyn\n",
    "\n",
    "Clearly, the boro with the most independent restaurants is **not** the one with the highest ratio of independent restaurants\n"
   ]
  },
  {
   "cell_type": "markdown",
   "metadata": {},
   "source": [
    "#### Task 8: Plot the popularity of cuisines. \n",
    "Which cuisines are the most well-represented among all restaurants? Define the popularity of a cuisine as the number of restaurants serving that cuisine. Plot the popularity of the top 20 cuisines."
   ]
  },
  {
   "cell_type": "code",
   "execution_count": 10,
   "metadata": {
    "scrolled": true
   },
   "outputs": [
    {
     "data": {
      "text/plain": [
       "<matplotlib.axes._subplots.AxesSubplot at 0x7fbd2149a890>"
      ]
     },
     "execution_count": 10,
     "metadata": {},
     "output_type": "execute_result"
    },
    {
     "data": {
      "image/png": "[encoded data removed]",
      "text/plain": [
       "<Figure size 432x288 with 1 Axes>"
      ]
     },
     "metadata": {
      "needs_background": "light"
     },
     "output_type": "display_data"
    }
   ],
   "source": [
    "Restaurant_cusine_all = df.drop_duplicates(subset = ['RESTAURANT', 'CUISINE DESCRIPTION'])[\n",
    "                                            'CUISINE DESCRIPTION'].value_counts()\n",
    "Restaurant_cusine_all[:20].plot(kind = \"bar\")\n",
    "\n",
    "# Note: There are 3 restaurants which are listed for 2 cuisines while other restaurant cuisine mapping is 1:1"
   ]
  },
  {
   "cell_type": "markdown",
   "metadata": {},
   "source": [
    "#### Task 9: Plot the cuisines among restaurants which never got cited for violations. \n",
    "Ideally, you should explore and see what happens when there is no violation, but here I will just tell you: the ’VIOLATION CODE’ field is missing.\n",
    "First, find the restaurants that were never cited for a code violation. The compute the popularity of each cuisine among these “clean” restaurants. Plot the popularity of the top-20 among these cuisines."
   ]
  },
  {
   "cell_type": "code",
   "execution_count": 11,
   "metadata": {
    "scrolled": true
   },
   "outputs": [
    {
     "data": {
      "text/plain": [
       "<matplotlib.axes._subplots.AxesSubplot at 0x7fbd217f7310>"
      ]
     },
     "execution_count": 11,
     "metadata": {},
     "output_type": "execute_result"
    },
    {
     "data": {
      "image/png": "[encoded data removed]",
      "text/plain": [
       "<Figure size 432x288 with 1 Axes>"
      ]
     },
     "metadata": {
      "needs_background": "light"
     },
     "output_type": "display_data"
    }
   ],
   "source": [
    "mask = ~  df['RESTAURANT'].isin(df[df['VIOLATION CODE'].notnull()]['RESTAURANT'])\n",
    "\n",
    "# Selecting all the restaurants who have atleast one violation\n",
    "\n",
    "Restaurant_cusine_no_violation=df[mask][['RESTAURANT','CUISINE DESCRIPTION']].drop_duplicates()['CUISINE DESCRIPTION'].value_counts()\n",
    "\n",
    "# Selecting all the restaurants who have atleast one violation\n",
    "\n",
    "df[mask][['RESTAURANT','CUISINE DESCRIPTION']].drop_duplicates()['CUISINE DESCRIPTION'].value_counts()[:20].plot.bar()"
   ]
  },
  {
   "cell_type": "markdown",
   "metadata": {},
   "source": [
    "#### Task 10: What cuisines tend to be the “cleanest”?\n",
    "Select all cuisines for which there were at least 20 restaurants repre- senting that cuisine.\n",
    "For each such cuisine, compute the ratio of the counts in Q9 to Q8. This is the ratio of restaurants that never got cited, versus total number of restaurants, for each cuisine.\n",
    "Find the top-10 cuisines with the highest ratios; these are that cuisines whose restaurants are “most likely to be clean.”\n"
   ]
  },
  {
   "cell_type": "code",
   "execution_count": 12,
   "metadata": {},
   "outputs": [
    {
     "data": {
      "text/plain": [
       "Soul Food                        0.090909\n",
       "Vietnamese/Cambodian/Malaysia    0.062500\n",
       "Other                            0.058252\n",
       "Soups & Sandwiches               0.047619\n",
       "Continental                      0.047619\n",
       "Barbecue                         0.047619\n",
       "Asian                            0.041096\n",
       "Chinese                          0.038251\n",
       "Greek                            0.036364\n",
       "Peruvian                         0.035714\n",
       "Name: CUISINE DESCRIPTION, dtype: float64"
      ]
     },
     "execution_count": 12,
     "metadata": {},
     "output_type": "execute_result"
    }
   ],
   "source": [
    "# Getting the list of cusinines where there are atleast 20 restaurants\n",
    "Restaurant_cusine_all_20 = Restaurant_cusine_all[Restaurant_cusine_all.values > 20]\n",
    "\n",
    "# Dividing to get the ratio\n",
    "clean_cuisine_propotion = Restaurant_cusine_no_violation/Restaurant_cusine_all_20\n",
    "clean_cuisine_propotion[clean_cuisine_propotion.notnull()].sort_values(ascending = False)[0:10]"
   ]
  },
  {
   "cell_type": "markdown",
   "metadata": {},
   "source": [
    "#### Task 11: What are the most common violations in each borough? \n",
    "Create a table of the number of times each violation description was observed in each borough, and figure out the most common violation description for each borough.\n",
    "To create the table, check out the crosstab function. We will see a more general version of this when we discuss groupby in class.\n",
    "Once you do have the table, you will still need to find the most common violation description for each borough."
   ]
  },
  {
   "cell_type": "code",
   "execution_count": 13,
   "metadata": {},
   "outputs": [],
   "source": [
    "import numpy as np\n",
    "df_violation_desc_removed = df.replace('Missing',np.nan)[df['VIOLATION DESCRIPTION'].notnull()]"
   ]
  },
  {
   "cell_type": "code",
   "execution_count": 14,
   "metadata": {
    "scrolled": true
   },
   "outputs": [
    {
     "data": {
      "text/html": [
       "<div>\n",
       "<style scoped>\n",
       "    .dataframe tbody tr th:only-of-type {\n",
       "        vertical-align: middle;\n",
       "    }\n",
       "\n",
       "    .dataframe tbody tr th {\n",
       "        vertical-align: top;\n",
       "    }\n",
       "\n",
       "    .dataframe thead th {\n",
       "        text-align: right;\n",
       "    }\n",
       "</style>\n",
       "<table border=\"1\" class=\"dataframe\">\n",
       "  <thead>\n",
       "    <tr style=\"text-align: right;\">\n",
       "      <th>VIOLATION DESCRIPTION</th>\n",
       "      <th>\u001aChoking first aid\u001a poster not posted. \u001aAlcohol and pregnancy\u001a warning sign not posted. Resuscitation equipment: exhaled air resuscitation masks (adult &amp; pediatric), latex gloves, sign not posted. Inspection report sign not posted.</th>\n",
       "      <th>''''No Smoking\u001a and/or 'Smoking Permitted\u001a sign not conspicuously posted. Health warning not present on 'Smoking Permitted\u001a</th>\n",
       "      <th>''''Wash hands\u001a sign not posted at hand wash facility.</th>\n",
       "      <th>A food containing artificial trans fat, with 0.5 grams or more of trans fat per serving, is being stored, distributed, held for service, used in preparation of a menu item, or served.</th>\n",
       "      <th>Accurate thermometer not provided in refrigerated or hot holding equipment.</th>\n",
       "      <th>Appropriately scaled metal stem-type thermometer or thermocouple not provided or used to evaluate temperatures of potentially hazardous foods during cooking, cooling, reheating and holding.</th>\n",
       "      <th>Ashtray present in smoke-free area.</th>\n",
       "      <th>Bulb not shielded or shatterproof, in areas where there is extreme heat, temperature changes, or where accidental contact may occur.</th>\n",
       "      <th>Caloric content not posted on menus, menu boards or food tags, in a food service establishment that is 1 of 15 or more outlets operating the same type of business nationally under common ownership or control, or as a franchise or doing business under the same name, for each menu item that is served in portions, the size and content of which are standardized.</th>\n",
       "      <th>Caloric content range (minimum to maximum) not posted on menus and or menu boards for each flavor, variety and size of each menu item that is offered for sale in different flavors, varieties and sizes.</th>\n",
       "      <th>...</th>\n",
       "      <th>Smoke free workplace smoking policy inadequate, not posted, not provided to employees.</th>\n",
       "      <th>Thawing procedures improper.</th>\n",
       "      <th>The original nutritional fact labels and/or ingredient label for a cooking oil, shortening or margarine or food item sold in bulk, or acceptable manufacturer\u001as documentation not maintained on site.</th>\n",
       "      <th>Tobacco use, eating, or drinking from open container in food preparation, food storage or dishwashing area observed.</th>\n",
       "      <th>Toilet facility not maintained and provided with toilet paper, waste receptacle and self-closing door.</th>\n",
       "      <th>Toilet facility not provided for employees or for patrons when required.</th>\n",
       "      <th>Toilet facility used by women does not have at least one covered garbage receptacle.</th>\n",
       "      <th>Toxic chemical improperly labeled, stored or used such that food contamination may occur.</th>\n",
       "      <th>Unprotected food re-served.</th>\n",
       "      <th>Wiping cloths soiled or not stored in sanitizing solution.</th>\n",
       "    </tr>\n",
       "    <tr>\n",
       "      <th>BORO</th>\n",
       "      <th></th>\n",
       "      <th></th>\n",
       "      <th></th>\n",
       "      <th></th>\n",
       "      <th></th>\n",
       "      <th></th>\n",
       "      <th></th>\n",
       "      <th></th>\n",
       "      <th></th>\n",
       "      <th></th>\n",
       "      <th></th>\n",
       "      <th></th>\n",
       "      <th></th>\n",
       "      <th></th>\n",
       "      <th></th>\n",
       "      <th></th>\n",
       "      <th></th>\n",
       "      <th></th>\n",
       "      <th></th>\n",
       "      <th></th>\n",
       "      <th></th>\n",
       "    </tr>\n",
       "  </thead>\n",
       "  <tbody>\n",
       "    <tr>\n",
       "      <th>BRONX</th>\n",
       "      <td>12</td>\n",
       "      <td>1</td>\n",
       "      <td>21</td>\n",
       "      <td>5</td>\n",
       "      <td>21</td>\n",
       "      <td>27</td>\n",
       "      <td>4</td>\n",
       "      <td>20</td>\n",
       "      <td>0</td>\n",
       "      <td>0</td>\n",
       "      <td>...</td>\n",
       "      <td>45</td>\n",
       "      <td>36</td>\n",
       "      <td>48</td>\n",
       "      <td>22</td>\n",
       "      <td>46</td>\n",
       "      <td>2</td>\n",
       "      <td>1</td>\n",
       "      <td>2</td>\n",
       "      <td>1</td>\n",
       "      <td>47</td>\n",
       "    </tr>\n",
       "    <tr>\n",
       "      <th>BROOKLYN</th>\n",
       "      <td>40</td>\n",
       "      <td>5</td>\n",
       "      <td>57</td>\n",
       "      <td>12</td>\n",
       "      <td>76</td>\n",
       "      <td>120</td>\n",
       "      <td>4</td>\n",
       "      <td>93</td>\n",
       "      <td>4</td>\n",
       "      <td>0</td>\n",
       "      <td>...</td>\n",
       "      <td>222</td>\n",
       "      <td>109</td>\n",
       "      <td>125</td>\n",
       "      <td>55</td>\n",
       "      <td>142</td>\n",
       "      <td>3</td>\n",
       "      <td>5</td>\n",
       "      <td>8</td>\n",
       "      <td>0</td>\n",
       "      <td>198</td>\n",
       "    </tr>\n",
       "    <tr>\n",
       "      <th>MANHATTAN</th>\n",
       "      <td>49</td>\n",
       "      <td>6</td>\n",
       "      <td>93</td>\n",
       "      <td>19</td>\n",
       "      <td>98</td>\n",
       "      <td>162</td>\n",
       "      <td>5</td>\n",
       "      <td>168</td>\n",
       "      <td>6</td>\n",
       "      <td>0</td>\n",
       "      <td>...</td>\n",
       "      <td>264</td>\n",
       "      <td>151</td>\n",
       "      <td>198</td>\n",
       "      <td>107</td>\n",
       "      <td>225</td>\n",
       "      <td>11</td>\n",
       "      <td>7</td>\n",
       "      <td>15</td>\n",
       "      <td>1</td>\n",
       "      <td>285</td>\n",
       "    </tr>\n",
       "    <tr>\n",
       "      <th>QUEENS</th>\n",
       "      <td>29</td>\n",
       "      <td>4</td>\n",
       "      <td>60</td>\n",
       "      <td>24</td>\n",
       "      <td>92</td>\n",
       "      <td>85</td>\n",
       "      <td>8</td>\n",
       "      <td>80</td>\n",
       "      <td>5</td>\n",
       "      <td>1</td>\n",
       "      <td>...</td>\n",
       "      <td>154</td>\n",
       "      <td>100</td>\n",
       "      <td>151</td>\n",
       "      <td>64</td>\n",
       "      <td>134</td>\n",
       "      <td>3</td>\n",
       "      <td>2</td>\n",
       "      <td>20</td>\n",
       "      <td>0</td>\n",
       "      <td>168</td>\n",
       "    </tr>\n",
       "    <tr>\n",
       "      <th>STATEN ISLAND</th>\n",
       "      <td>5</td>\n",
       "      <td>1</td>\n",
       "      <td>8</td>\n",
       "      <td>3</td>\n",
       "      <td>16</td>\n",
       "      <td>17</td>\n",
       "      <td>1</td>\n",
       "      <td>10</td>\n",
       "      <td>1</td>\n",
       "      <td>0</td>\n",
       "      <td>...</td>\n",
       "      <td>22</td>\n",
       "      <td>23</td>\n",
       "      <td>25</td>\n",
       "      <td>7</td>\n",
       "      <td>14</td>\n",
       "      <td>1</td>\n",
       "      <td>1</td>\n",
       "      <td>3</td>\n",
       "      <td>0</td>\n",
       "      <td>25</td>\n",
       "    </tr>\n",
       "  </tbody>\n",
       "</table>\n",
       "<p>5 rows × 82 columns</p>\n",
       "</div>"
      ],
      "text/plain": [
       "VIOLATION DESCRIPTION  \u001aChoking first aid\u001a poster not posted. \u001aAlcohol and pregnancy\u001a warning sign not posted. Resuscitation equipment: exhaled air resuscitation masks (adult & pediatric), latex gloves, sign not posted. Inspection report sign not posted.  \\\n",
       "BORO                                                                                                                                                                                                                                                             \n",
       "BRONX                                                                 12                                                                                                                                                                                         \n",
       "BROOKLYN                                                              40                                                                                                                                                                                         \n",
       "MANHATTAN                                                             49                                                                                                                                                                                         \n",
       "QUEENS                                                                29                                                                                                                                                                                         \n",
       "STATEN ISLAND                                                          5                                                                                                                                                                                         \n",
       "\n",
       "VIOLATION DESCRIPTION  ''''No Smoking\u001a and/or 'Smoking Permitted\u001a sign not conspicuously posted. Health warning not present on 'Smoking Permitted\u001a  \\\n",
       "BORO                                                                                                                                                 \n",
       "BRONX                                                                  1                                                                             \n",
       "BROOKLYN                                                               5                                                                             \n",
       "MANHATTAN                                                              6                                                                             \n",
       "QUEENS                                                                 4                                                                             \n",
       "STATEN ISLAND                                                          1                                                                             \n",
       "\n",
       "VIOLATION DESCRIPTION  ''''Wash hands\u001a sign not posted at hand wash facility.  \\\n",
       "BORO                                                                            \n",
       "BRONX                                                                 21        \n",
       "BROOKLYN                                                              57        \n",
       "MANHATTAN                                                             93        \n",
       "QUEENS                                                                60        \n",
       "STATEN ISLAND                                                          8        \n",
       "\n",
       "VIOLATION DESCRIPTION  A food containing artificial trans fat, with 0.5 grams or more of trans fat per serving, is being stored, distributed, held for service, used in preparation of a menu item, or served.  \\\n",
       "BORO                                                                                                                                                                                                             \n",
       "BRONX                                                                  5                                                                                                                                         \n",
       "BROOKLYN                                                              12                                                                                                                                         \n",
       "MANHATTAN                                                             19                                                                                                                                         \n",
       "QUEENS                                                                24                                                                                                                                         \n",
       "STATEN ISLAND                                                          3                                                                                                                                         \n",
       "\n",
       "VIOLATION DESCRIPTION  Accurate thermometer not provided in refrigerated or hot holding equipment.  \\\n",
       "BORO                                                                                                 \n",
       "BRONX                                                                 21                             \n",
       "BROOKLYN                                                              76                             \n",
       "MANHATTAN                                                             98                             \n",
       "QUEENS                                                                92                             \n",
       "STATEN ISLAND                                                         16                             \n",
       "\n",
       "VIOLATION DESCRIPTION  Appropriately scaled metal stem-type thermometer or thermocouple not provided or used to evaluate temperatures of potentially hazardous foods during cooking, cooling, reheating and holding.  \\\n",
       "BORO                                                                                                                                                                                                                   \n",
       "BRONX                                                                 27                                                                                                                                               \n",
       "BROOKLYN                                                             120                                                                                                                                               \n",
       "MANHATTAN                                                            162                                                                                                                                               \n",
       "QUEENS                                                                85                                                                                                                                               \n",
       "STATEN ISLAND                                                         17                                                                                                                                               \n",
       "\n",
       "VIOLATION DESCRIPTION  Ashtray present in smoke-free area.  \\\n",
       "BORO                                                         \n",
       "BRONX                                                    4   \n",
       "BROOKLYN                                                 4   \n",
       "MANHATTAN                                                5   \n",
       "QUEENS                                                   8   \n",
       "STATEN ISLAND                                            1   \n",
       "\n",
       "VIOLATION DESCRIPTION  Bulb not shielded or shatterproof, in areas where there is extreme heat, temperature changes, or where accidental contact may occur.  \\\n",
       "BORO                                                                                                                                                          \n",
       "BRONX                                                                 20                                                                                      \n",
       "BROOKLYN                                                              93                                                                                      \n",
       "MANHATTAN                                                            168                                                                                      \n",
       "QUEENS                                                                80                                                                                      \n",
       "STATEN ISLAND                                                         10                                                                                      \n",
       "\n",
       "VIOLATION DESCRIPTION  Caloric content not posted on menus, menu boards or food tags, in a food service establishment that is 1 of 15 or more outlets operating the same type of business nationally under common ownership or control, or as a franchise or doing business under the same name, for each menu item that is served in portions, the size and content of which are standardized.  \\\n",
       "BORO                                                                                                                                                                                                                                                                                                                                                                                              \n",
       "BRONX                                                                  0                                                                                                                                                                                                                                                                                                                          \n",
       "BROOKLYN                                                               4                                                                                                                                                                                                                                                                                                                          \n",
       "MANHATTAN                                                              6                                                                                                                                                                                                                                                                                                                          \n",
       "QUEENS                                                                 5                                                                                                                                                                                                                                                                                                                          \n",
       "STATEN ISLAND                                                          1                                                                                                                                                                                                                                                                                                                          \n",
       "\n",
       "VIOLATION DESCRIPTION  Caloric content range (minimum to maximum) not posted on menus and or menu boards for each flavor, variety and size of each menu item that is offered for sale in different flavors, varieties and sizes.  \\\n",
       "BORO                                                                                                                                                                                                                               \n",
       "BRONX                                                                  0                                                                                                                                                           \n",
       "BROOKLYN                                                               0                                                                                                                                                           \n",
       "MANHATTAN                                                              0                                                                                                                                                           \n",
       "QUEENS                                                                 1                                                                                                                                                           \n",
       "STATEN ISLAND                                                          0                                                                                                                                                           \n",
       "\n",
       "VIOLATION DESCRIPTION  ...  \\\n",
       "BORO                   ...   \n",
       "BRONX                  ...   \n",
       "BROOKLYN               ...   \n",
       "MANHATTAN              ...   \n",
       "QUEENS                 ...   \n",
       "STATEN ISLAND          ...   \n",
       "\n",
       "VIOLATION DESCRIPTION  Smoke free workplace smoking policy inadequate, not posted, not provided to employees.  \\\n",
       "BORO                                                                                                            \n",
       "BRONX                                                                 45                                        \n",
       "BROOKLYN                                                             222                                        \n",
       "MANHATTAN                                                            264                                        \n",
       "QUEENS                                                               154                                        \n",
       "STATEN ISLAND                                                         22                                        \n",
       "\n",
       "VIOLATION DESCRIPTION  Thawing procedures improper.  \\\n",
       "BORO                                                  \n",
       "BRONX                                            36   \n",
       "BROOKLYN                                        109   \n",
       "MANHATTAN                                       151   \n",
       "QUEENS                                          100   \n",
       "STATEN ISLAND                                    23   \n",
       "\n",
       "VIOLATION DESCRIPTION  The original nutritional fact labels and/or ingredient label for a cooking oil, shortening or margarine or food item sold in bulk, or acceptable manufacturer\u001as documentation not maintained on site.  \\\n",
       "BORO                                                                                                                                                                                                                           \n",
       "BRONX                                                                 48                                                                                                                                                       \n",
       "BROOKLYN                                                             125                                                                                                                                                       \n",
       "MANHATTAN                                                            198                                                                                                                                                       \n",
       "QUEENS                                                               151                                                                                                                                                       \n",
       "STATEN ISLAND                                                         25                                                                                                                                                       \n",
       "\n",
       "VIOLATION DESCRIPTION  Tobacco use, eating, or drinking from open container in food preparation, food storage or dishwashing area observed.  \\\n",
       "BORO                                                                                                                                          \n",
       "BRONX                                                                 22                                                                      \n",
       "BROOKLYN                                                              55                                                                      \n",
       "MANHATTAN                                                            107                                                                      \n",
       "QUEENS                                                                64                                                                      \n",
       "STATEN ISLAND                                                          7                                                                      \n",
       "\n",
       "VIOLATION DESCRIPTION  Toilet facility not maintained and provided with toilet paper, waste receptacle and self-closing door.  \\\n",
       "BORO                                                                                                                            \n",
       "BRONX                                                                 46                                                        \n",
       "BROOKLYN                                                             142                                                        \n",
       "MANHATTAN                                                            225                                                        \n",
       "QUEENS                                                               134                                                        \n",
       "STATEN ISLAND                                                         14                                                        \n",
       "\n",
       "VIOLATION DESCRIPTION  Toilet facility not provided for employees or for patrons when required.  \\\n",
       "BORO                                                                                              \n",
       "BRONX                                                                  2                          \n",
       "BROOKLYN                                                               3                          \n",
       "MANHATTAN                                                             11                          \n",
       "QUEENS                                                                 3                          \n",
       "STATEN ISLAND                                                          1                          \n",
       "\n",
       "VIOLATION DESCRIPTION  Toilet facility used by women does not have at least one covered garbage receptacle.  \\\n",
       "BORO                                                                                                          \n",
       "BRONX                                                                  1                                      \n",
       "BROOKLYN                                                               5                                      \n",
       "MANHATTAN                                                              7                                      \n",
       "QUEENS                                                                 2                                      \n",
       "STATEN ISLAND                                                          1                                      \n",
       "\n",
       "VIOLATION DESCRIPTION  Toxic chemical improperly labeled, stored or used such that food contamination may occur.  \\\n",
       "BORO                                                                                                               \n",
       "BRONX                                                                  2                                           \n",
       "BROOKLYN                                                               8                                           \n",
       "MANHATTAN                                                             15                                           \n",
       "QUEENS                                                                20                                           \n",
       "STATEN ISLAND                                                          3                                           \n",
       "\n",
       "VIOLATION DESCRIPTION  Unprotected food re-served.  \\\n",
       "BORO                                                 \n",
       "BRONX                                            1   \n",
       "BROOKLYN                                         0   \n",
       "MANHATTAN                                        1   \n",
       "QUEENS                                           0   \n",
       "STATEN ISLAND                                    0   \n",
       "\n",
       "VIOLATION DESCRIPTION  Wiping cloths soiled or not stored in sanitizing solution.  \n",
       "BORO                                                                               \n",
       "BRONX                                                                 47           \n",
       "BROOKLYN                                                             198           \n",
       "MANHATTAN                                                            285           \n",
       "QUEENS                                                               168           \n",
       "STATEN ISLAND                                                         25           \n",
       "\n",
       "[5 rows x 82 columns]"
      ]
     },
     "metadata": {},
     "output_type": "display_data"
    },
    {
     "name": "stdout",
     "output_type": "stream",
     "text": [
      "Max values of row are at following columns :\n",
      "BORO\n",
      "BRONX            Non-food contact surface improperly constructe...\n",
      "BROOKLYN         Non-food contact surface improperly constructe...\n",
      "MANHATTAN        Non-food contact surface improperly constructe...\n",
      "QUEENS           Non-food contact surface improperly constructe...\n",
      "STATEN ISLAND    Non-food contact surface improperly constructe...\n",
      "dtype: object\n"
     ]
    }
   ],
   "source": [
    "# Dropping all those rows having Missing as a value for borough\n",
    "df_violation_desc_removed = df_violation_desc_removed.drop(df[df.BORO == 'Missing'].index)\n",
    "\n",
    "# Applying crosstab to calculate different violation descriptions across different borough\n",
    "violation_description_df = pd.crosstab(df_violation_desc_removed['BORO'], \n",
    "                                       df_violation_desc_removed['VIOLATION DESCRIPTION'], \n",
    "                                       rownames=['BORO'], colnames=['VIOLATION DESCRIPTION'])\n",
    "display(violation_description_df)\n",
    "\n",
    "# Finding out the violation description most prevalant in each borough\n",
    "maxValueIndex = violation_description_df.idxmax(axis = 1)\n",
    " \n",
    "print(\"Max values of row are at following columns :\")\n",
    "print(maxValueIndex)"
   ]
  },
  {
   "cell_type": "markdown",
   "metadata": {},
   "source": [
    "#### Task 12: What are the most common violations per borough, after normalizing for the relative abundance of each violation? \n",
    "\n",
    "Hopefully, the answer to the previous question left you unsatisfied, because some violations are just very common, irrespective of borough. A better approach would be to normalize the violation counts, as follows.\n",
    "\n",
    "• Get overall frequencies: Figure out how common each violation is, over the entire dataset; let’s call this violationFrequency.\n",
    "\n",
    "• Normalize: Consider the table of number of violations by boro that you created for the previous question. For each borough, divide the number of violations of each type by the total number of violations for that type; i.e., divide the series of violations by violationFrequency. We want to do this for each borough.\n",
    "\n",
    "• Find the biggest violations: Now, after this normalization, for each borough, figure out the most common violation description."
   ]
  },
  {
   "cell_type": "code",
   "execution_count": 15,
   "metadata": {
    "scrolled": true
   },
   "outputs": [
    {
     "data": {
      "text/html": [
       "<div>\n",
       "<style scoped>\n",
       "    .dataframe tbody tr th:only-of-type {\n",
       "        vertical-align: middle;\n",
       "    }\n",
       "\n",
       "    .dataframe tbody tr th {\n",
       "        vertical-align: top;\n",
       "    }\n",
       "\n",
       "    .dataframe thead th {\n",
       "        text-align: right;\n",
       "    }\n",
       "</style>\n",
       "<table border=\"1\" class=\"dataframe\">\n",
       "  <thead>\n",
       "    <tr style=\"text-align: right;\">\n",
       "      <th>VIOLATION DESCRIPTION</th>\n",
       "      <th>\u001aChoking first aid\u001a poster not posted. \u001aAlcohol and pregnancy\u001a warning sign not posted. Resuscitation equipment: exhaled air resuscitation masks (adult &amp; pediatric), latex gloves, sign not posted. Inspection report sign not posted.</th>\n",
       "      <th>''''No Smoking\u001a and/or 'Smoking Permitted\u001a sign not conspicuously posted. Health warning not present on 'Smoking Permitted\u001a</th>\n",
       "      <th>''''Wash hands\u001a sign not posted at hand wash facility.</th>\n",
       "      <th>A food containing artificial trans fat, with 0.5 grams or more of trans fat per serving, is being stored, distributed, held for service, used in preparation of a menu item, or served.</th>\n",
       "      <th>Accurate thermometer not provided in refrigerated or hot holding equipment.</th>\n",
       "      <th>Appropriately scaled metal stem-type thermometer or thermocouple not provided or used to evaluate temperatures of potentially hazardous foods during cooking, cooling, reheating and holding.</th>\n",
       "      <th>Ashtray present in smoke-free area.</th>\n",
       "      <th>Bulb not shielded or shatterproof, in areas where there is extreme heat, temperature changes, or where accidental contact may occur.</th>\n",
       "      <th>Caloric content not posted on menus, menu boards or food tags, in a food service establishment that is 1 of 15 or more outlets operating the same type of business nationally under common ownership or control, or as a franchise or doing business under the same name, for each menu item that is served in portions, the size and content of which are standardized.</th>\n",
       "      <th>Caloric content range (minimum to maximum) not posted on menus and or menu boards for each flavor, variety and size of each menu item that is offered for sale in different flavors, varieties and sizes.</th>\n",
       "      <th>...</th>\n",
       "      <th>Smoke free workplace smoking policy inadequate, not posted, not provided to employees.</th>\n",
       "      <th>Thawing procedures improper.</th>\n",
       "      <th>The original nutritional fact labels and/or ingredient label for a cooking oil, shortening or margarine or food item sold in bulk, or acceptable manufacturer\u001as documentation not maintained on site.</th>\n",
       "      <th>Tobacco use, eating, or drinking from open container in food preparation, food storage or dishwashing area observed.</th>\n",
       "      <th>Toilet facility not maintained and provided with toilet paper, waste receptacle and self-closing door.</th>\n",
       "      <th>Toilet facility not provided for employees or for patrons when required.</th>\n",
       "      <th>Toilet facility used by women does not have at least one covered garbage receptacle.</th>\n",
       "      <th>Toxic chemical improperly labeled, stored or used such that food contamination may occur.</th>\n",
       "      <th>Unprotected food re-served.</th>\n",
       "      <th>Wiping cloths soiled or not stored in sanitizing solution.</th>\n",
       "    </tr>\n",
       "    <tr>\n",
       "      <th>BORO</th>\n",
       "      <th></th>\n",
       "      <th></th>\n",
       "      <th></th>\n",
       "      <th></th>\n",
       "      <th></th>\n",
       "      <th></th>\n",
       "      <th></th>\n",
       "      <th></th>\n",
       "      <th></th>\n",
       "      <th></th>\n",
       "      <th></th>\n",
       "      <th></th>\n",
       "      <th></th>\n",
       "      <th></th>\n",
       "      <th></th>\n",
       "      <th></th>\n",
       "      <th></th>\n",
       "      <th></th>\n",
       "      <th></th>\n",
       "      <th></th>\n",
       "      <th></th>\n",
       "    </tr>\n",
       "  </thead>\n",
       "  <tbody>\n",
       "    <tr>\n",
       "      <th>BRONX</th>\n",
       "      <td>0.088889</td>\n",
       "      <td>0.058824</td>\n",
       "      <td>0.087866</td>\n",
       "      <td>0.079365</td>\n",
       "      <td>0.069307</td>\n",
       "      <td>0.065693</td>\n",
       "      <td>0.181818</td>\n",
       "      <td>0.053908</td>\n",
       "      <td>0.0000</td>\n",
       "      <td>0.0</td>\n",
       "      <td>...</td>\n",
       "      <td>0.063649</td>\n",
       "      <td>0.085919</td>\n",
       "      <td>0.087751</td>\n",
       "      <td>0.086275</td>\n",
       "      <td>0.081996</td>\n",
       "      <td>0.10</td>\n",
       "      <td>0.0625</td>\n",
       "      <td>0.041667</td>\n",
       "      <td>0.5</td>\n",
       "      <td>0.065007</td>\n",
       "    </tr>\n",
       "    <tr>\n",
       "      <th>BROOKLYN</th>\n",
       "      <td>0.296296</td>\n",
       "      <td>0.294118</td>\n",
       "      <td>0.238494</td>\n",
       "      <td>0.190476</td>\n",
       "      <td>0.250825</td>\n",
       "      <td>0.291971</td>\n",
       "      <td>0.181818</td>\n",
       "      <td>0.250674</td>\n",
       "      <td>0.2500</td>\n",
       "      <td>0.0</td>\n",
       "      <td>...</td>\n",
       "      <td>0.314003</td>\n",
       "      <td>0.260143</td>\n",
       "      <td>0.228519</td>\n",
       "      <td>0.215686</td>\n",
       "      <td>0.253119</td>\n",
       "      <td>0.15</td>\n",
       "      <td>0.3125</td>\n",
       "      <td>0.166667</td>\n",
       "      <td>0.0</td>\n",
       "      <td>0.273859</td>\n",
       "    </tr>\n",
       "    <tr>\n",
       "      <th>MANHATTAN</th>\n",
       "      <td>0.362963</td>\n",
       "      <td>0.352941</td>\n",
       "      <td>0.389121</td>\n",
       "      <td>0.301587</td>\n",
       "      <td>0.323432</td>\n",
       "      <td>0.394161</td>\n",
       "      <td>0.227273</td>\n",
       "      <td>0.452830</td>\n",
       "      <td>0.3750</td>\n",
       "      <td>0.0</td>\n",
       "      <td>...</td>\n",
       "      <td>0.373409</td>\n",
       "      <td>0.360382</td>\n",
       "      <td>0.361974</td>\n",
       "      <td>0.419608</td>\n",
       "      <td>0.401070</td>\n",
       "      <td>0.55</td>\n",
       "      <td>0.4375</td>\n",
       "      <td>0.312500</td>\n",
       "      <td>0.5</td>\n",
       "      <td>0.394191</td>\n",
       "    </tr>\n",
       "    <tr>\n",
       "      <th>QUEENS</th>\n",
       "      <td>0.214815</td>\n",
       "      <td>0.235294</td>\n",
       "      <td>0.251046</td>\n",
       "      <td>0.380952</td>\n",
       "      <td>0.303630</td>\n",
       "      <td>0.206813</td>\n",
       "      <td>0.363636</td>\n",
       "      <td>0.215633</td>\n",
       "      <td>0.3125</td>\n",
       "      <td>1.0</td>\n",
       "      <td>...</td>\n",
       "      <td>0.217822</td>\n",
       "      <td>0.238663</td>\n",
       "      <td>0.276051</td>\n",
       "      <td>0.250980</td>\n",
       "      <td>0.238859</td>\n",
       "      <td>0.15</td>\n",
       "      <td>0.1250</td>\n",
       "      <td>0.416667</td>\n",
       "      <td>0.0</td>\n",
       "      <td>0.232365</td>\n",
       "    </tr>\n",
       "    <tr>\n",
       "      <th>STATEN ISLAND</th>\n",
       "      <td>0.037037</td>\n",
       "      <td>0.058824</td>\n",
       "      <td>0.033473</td>\n",
       "      <td>0.047619</td>\n",
       "      <td>0.052805</td>\n",
       "      <td>0.041363</td>\n",
       "      <td>0.045455</td>\n",
       "      <td>0.026954</td>\n",
       "      <td>0.0625</td>\n",
       "      <td>0.0</td>\n",
       "      <td>...</td>\n",
       "      <td>0.031117</td>\n",
       "      <td>0.054893</td>\n",
       "      <td>0.045704</td>\n",
       "      <td>0.027451</td>\n",
       "      <td>0.024955</td>\n",
       "      <td>0.05</td>\n",
       "      <td>0.0625</td>\n",
       "      <td>0.062500</td>\n",
       "      <td>0.0</td>\n",
       "      <td>0.034578</td>\n",
       "    </tr>\n",
       "    <tr>\n",
       "      <th>violationFrequency</th>\n",
       "      <td>1.000000</td>\n",
       "      <td>1.000000</td>\n",
       "      <td>1.000000</td>\n",
       "      <td>1.000000</td>\n",
       "      <td>1.000000</td>\n",
       "      <td>1.000000</td>\n",
       "      <td>1.000000</td>\n",
       "      <td>1.000000</td>\n",
       "      <td>1.0000</td>\n",
       "      <td>1.0</td>\n",
       "      <td>...</td>\n",
       "      <td>1.000000</td>\n",
       "      <td>1.000000</td>\n",
       "      <td>1.000000</td>\n",
       "      <td>1.000000</td>\n",
       "      <td>1.000000</td>\n",
       "      <td>1.00</td>\n",
       "      <td>1.0000</td>\n",
       "      <td>1.000000</td>\n",
       "      <td>1.0</td>\n",
       "      <td>1.000000</td>\n",
       "    </tr>\n",
       "  </tbody>\n",
       "</table>\n",
       "<p>6 rows × 82 columns</p>\n",
       "</div>"
      ],
      "text/plain": [
       "VIOLATION DESCRIPTION  \u001aChoking first aid\u001a poster not posted. \u001aAlcohol and pregnancy\u001a warning sign not posted. Resuscitation equipment: exhaled air resuscitation masks (adult & pediatric), latex gloves, sign not posted. Inspection report sign not posted.  \\\n",
       "BORO                                                                                                                                                                                                                                                             \n",
       "BRONX                                                           0.088889                                                                                                                                                                                         \n",
       "BROOKLYN                                                        0.296296                                                                                                                                                                                         \n",
       "MANHATTAN                                                       0.362963                                                                                                                                                                                         \n",
       "QUEENS                                                          0.214815                                                                                                                                                                                         \n",
       "STATEN ISLAND                                                   0.037037                                                                                                                                                                                         \n",
       "violationFrequency                                              1.000000                                                                                                                                                                                         \n",
       "\n",
       "VIOLATION DESCRIPTION  ''''No Smoking\u001a and/or 'Smoking Permitted\u001a sign not conspicuously posted. Health warning not present on 'Smoking Permitted\u001a  \\\n",
       "BORO                                                                                                                                                 \n",
       "BRONX                                                           0.058824                                                                             \n",
       "BROOKLYN                                                        0.294118                                                                             \n",
       "MANHATTAN                                                       0.352941                                                                             \n",
       "QUEENS                                                          0.235294                                                                             \n",
       "STATEN ISLAND                                                   0.058824                                                                             \n",
       "violationFrequency                                              1.000000                                                                             \n",
       "\n",
       "VIOLATION DESCRIPTION  ''''Wash hands\u001a sign not posted at hand wash facility.  \\\n",
       "BORO                                                                            \n",
       "BRONX                                                           0.087866        \n",
       "BROOKLYN                                                        0.238494        \n",
       "MANHATTAN                                                       0.389121        \n",
       "QUEENS                                                          0.251046        \n",
       "STATEN ISLAND                                                   0.033473        \n",
       "violationFrequency                                              1.000000        \n",
       "\n",
       "VIOLATION DESCRIPTION  A food containing artificial trans fat, with 0.5 grams or more of trans fat per serving, is being stored, distributed, held for service, used in preparation of a menu item, or served.  \\\n",
       "BORO                                                                                                                                                                                                             \n",
       "BRONX                                                           0.079365                                                                                                                                         \n",
       "BROOKLYN                                                        0.190476                                                                                                                                         \n",
       "MANHATTAN                                                       0.301587                                                                                                                                         \n",
       "QUEENS                                                          0.380952                                                                                                                                         \n",
       "STATEN ISLAND                                                   0.047619                                                                                                                                         \n",
       "violationFrequency                                              1.000000                                                                                                                                         \n",
       "\n",
       "VIOLATION DESCRIPTION  Accurate thermometer not provided in refrigerated or hot holding equipment.  \\\n",
       "BORO                                                                                                 \n",
       "BRONX                                                           0.069307                             \n",
       "BROOKLYN                                                        0.250825                             \n",
       "MANHATTAN                                                       0.323432                             \n",
       "QUEENS                                                          0.303630                             \n",
       "STATEN ISLAND                                                   0.052805                             \n",
       "violationFrequency                                              1.000000                             \n",
       "\n",
       "VIOLATION DESCRIPTION  Appropriately scaled metal stem-type thermometer or thermocouple not provided or used to evaluate temperatures of potentially hazardous foods during cooking, cooling, reheating and holding.  \\\n",
       "BORO                                                                                                                                                                                                                   \n",
       "BRONX                                                           0.065693                                                                                                                                               \n",
       "BROOKLYN                                                        0.291971                                                                                                                                               \n",
       "MANHATTAN                                                       0.394161                                                                                                                                               \n",
       "QUEENS                                                          0.206813                                                                                                                                               \n",
       "STATEN ISLAND                                                   0.041363                                                                                                                                               \n",
       "violationFrequency                                              1.000000                                                                                                                                               \n",
       "\n",
       "VIOLATION DESCRIPTION  Ashtray present in smoke-free area.  \\\n",
       "BORO                                                         \n",
       "BRONX                                             0.181818   \n",
       "BROOKLYN                                          0.181818   \n",
       "MANHATTAN                                         0.227273   \n",
       "QUEENS                                            0.363636   \n",
       "STATEN ISLAND                                     0.045455   \n",
       "violationFrequency                                1.000000   \n",
       "\n",
       "VIOLATION DESCRIPTION  Bulb not shielded or shatterproof, in areas where there is extreme heat, temperature changes, or where accidental contact may occur.  \\\n",
       "BORO                                                                                                                                                          \n",
       "BRONX                                                           0.053908                                                                                      \n",
       "BROOKLYN                                                        0.250674                                                                                      \n",
       "MANHATTAN                                                       0.452830                                                                                      \n",
       "QUEENS                                                          0.215633                                                                                      \n",
       "STATEN ISLAND                                                   0.026954                                                                                      \n",
       "violationFrequency                                              1.000000                                                                                      \n",
       "\n",
       "VIOLATION DESCRIPTION  Caloric content not posted on menus, menu boards or food tags, in a food service establishment that is 1 of 15 or more outlets operating the same type of business nationally under common ownership or control, or as a franchise or doing business under the same name, for each menu item that is served in portions, the size and content of which are standardized.  \\\n",
       "BORO                                                                                                                                                                                                                                                                                                                                                                                              \n",
       "BRONX                                                             0.0000                                                                                                                                                                                                                                                                                                                          \n",
       "BROOKLYN                                                          0.2500                                                                                                                                                                                                                                                                                                                          \n",
       "MANHATTAN                                                         0.3750                                                                                                                                                                                                                                                                                                                          \n",
       "QUEENS                                                            0.3125                                                                                                                                                                                                                                                                                                                          \n",
       "STATEN ISLAND                                                     0.0625                                                                                                                                                                                                                                                                                                                          \n",
       "violationFrequency                                                1.0000                                                                                                                                                                                                                                                                                                                          \n",
       "\n",
       "VIOLATION DESCRIPTION  Caloric content range (minimum to maximum) not posted on menus and or menu boards for each flavor, variety and size of each menu item that is offered for sale in different flavors, varieties and sizes.  \\\n",
       "BORO                                                                                                                                                                                                                               \n",
       "BRONX                                                                0.0                                                                                                                                                           \n",
       "BROOKLYN                                                             0.0                                                                                                                                                           \n",
       "MANHATTAN                                                            0.0                                                                                                                                                           \n",
       "QUEENS                                                               1.0                                                                                                                                                           \n",
       "STATEN ISLAND                                                        0.0                                                                                                                                                           \n",
       "violationFrequency                                                   1.0                                                                                                                                                           \n",
       "\n",
       "VIOLATION DESCRIPTION  ...  \\\n",
       "BORO                   ...   \n",
       "BRONX                  ...   \n",
       "BROOKLYN               ...   \n",
       "MANHATTAN              ...   \n",
       "QUEENS                 ...   \n",
       "STATEN ISLAND          ...   \n",
       "violationFrequency     ...   \n",
       "\n",
       "VIOLATION DESCRIPTION  Smoke free workplace smoking policy inadequate, not posted, not provided to employees.  \\\n",
       "BORO                                                                                                            \n",
       "BRONX                                                           0.063649                                        \n",
       "BROOKLYN                                                        0.314003                                        \n",
       "MANHATTAN                                                       0.373409                                        \n",
       "QUEENS                                                          0.217822                                        \n",
       "STATEN ISLAND                                                   0.031117                                        \n",
       "violationFrequency                                              1.000000                                        \n",
       "\n",
       "VIOLATION DESCRIPTION  Thawing procedures improper.  \\\n",
       "BORO                                                  \n",
       "BRONX                                      0.085919   \n",
       "BROOKLYN                                   0.260143   \n",
       "MANHATTAN                                  0.360382   \n",
       "QUEENS                                     0.238663   \n",
       "STATEN ISLAND                              0.054893   \n",
       "violationFrequency                         1.000000   \n",
       "\n",
       "VIOLATION DESCRIPTION  The original nutritional fact labels and/or ingredient label for a cooking oil, shortening or margarine or food item sold in bulk, or acceptable manufacturer\u001as documentation not maintained on site.  \\\n",
       "BORO                                                                                                                                                                                                                           \n",
       "BRONX                                                           0.087751                                                                                                                                                       \n",
       "BROOKLYN                                                        0.228519                                                                                                                                                       \n",
       "MANHATTAN                                                       0.361974                                                                                                                                                       \n",
       "QUEENS                                                          0.276051                                                                                                                                                       \n",
       "STATEN ISLAND                                                   0.045704                                                                                                                                                       \n",
       "violationFrequency                                              1.000000                                                                                                                                                       \n",
       "\n",
       "VIOLATION DESCRIPTION  Tobacco use, eating, or drinking from open container in food preparation, food storage or dishwashing area observed.  \\\n",
       "BORO                                                                                                                                          \n",
       "BRONX                                                           0.086275                                                                      \n",
       "BROOKLYN                                                        0.215686                                                                      \n",
       "MANHATTAN                                                       0.419608                                                                      \n",
       "QUEENS                                                          0.250980                                                                      \n",
       "STATEN ISLAND                                                   0.027451                                                                      \n",
       "violationFrequency                                              1.000000                                                                      \n",
       "\n",
       "VIOLATION DESCRIPTION  Toilet facility not maintained and provided with toilet paper, waste receptacle and self-closing door.  \\\n",
       "BORO                                                                                                                            \n",
       "BRONX                                                           0.081996                                                        \n",
       "BROOKLYN                                                        0.253119                                                        \n",
       "MANHATTAN                                                       0.401070                                                        \n",
       "QUEENS                                                          0.238859                                                        \n",
       "STATEN ISLAND                                                   0.024955                                                        \n",
       "violationFrequency                                              1.000000                                                        \n",
       "\n",
       "VIOLATION DESCRIPTION  Toilet facility not provided for employees or for patrons when required.  \\\n",
       "BORO                                                                                              \n",
       "BRONX                                                               0.10                          \n",
       "BROOKLYN                                                            0.15                          \n",
       "MANHATTAN                                                           0.55                          \n",
       "QUEENS                                                              0.15                          \n",
       "STATEN ISLAND                                                       0.05                          \n",
       "violationFrequency                                                  1.00                          \n",
       "\n",
       "VIOLATION DESCRIPTION  Toilet facility used by women does not have at least one covered garbage receptacle.  \\\n",
       "BORO                                                                                                          \n",
       "BRONX                                                             0.0625                                      \n",
       "BROOKLYN                                                          0.3125                                      \n",
       "MANHATTAN                                                         0.4375                                      \n",
       "QUEENS                                                            0.1250                                      \n",
       "STATEN ISLAND                                                     0.0625                                      \n",
       "violationFrequency                                                1.0000                                      \n",
       "\n",
       "VIOLATION DESCRIPTION  Toxic chemical improperly labeled, stored or used such that food contamination may occur.  \\\n",
       "BORO                                                                                                               \n",
       "BRONX                                                           0.041667                                           \n",
       "BROOKLYN                                                        0.166667                                           \n",
       "MANHATTAN                                                       0.312500                                           \n",
       "QUEENS                                                          0.416667                                           \n",
       "STATEN ISLAND                                                   0.062500                                           \n",
       "violationFrequency                                              1.000000                                           \n",
       "\n",
       "VIOLATION DESCRIPTION  Unprotected food re-served.  \\\n",
       "BORO                                                 \n",
       "BRONX                                          0.5   \n",
       "BROOKLYN                                       0.0   \n",
       "MANHATTAN                                      0.5   \n",
       "QUEENS                                         0.0   \n",
       "STATEN ISLAND                                  0.0   \n",
       "violationFrequency                             1.0   \n",
       "\n",
       "VIOLATION DESCRIPTION  Wiping cloths soiled or not stored in sanitizing solution.  \n",
       "BORO                                                                               \n",
       "BRONX                                                           0.065007           \n",
       "BROOKLYN                                                        0.273859           \n",
       "MANHATTAN                                                       0.394191           \n",
       "QUEENS                                                          0.232365           \n",
       "STATEN ISLAND                                                   0.034578           \n",
       "violationFrequency                                              1.000000           \n",
       "\n",
       "[6 rows x 82 columns]"
      ]
     },
     "metadata": {},
     "output_type": "display_data"
    },
    {
     "name": "stdout",
     "output_type": "stream",
     "text": [
      "Max values of row are at following columns :\n",
      "BORO\n",
      "BRONX                                       Unprotected food re-served.\n",
      "BROOKLYN              Precooked potentially hazardous food from comm...\n",
      "MANHATTAN             Out-of package sale of tobacco products observed.\n",
      "QUEENS                Caloric content range (minimum to maximum) not...\n",
      "STATEN ISLAND         Eggs found dirty/cracked; liquid, frozen or po...\n",
      "violationFrequency    \u001aChoking first aid\u001a poster not posted. \u001aAlcoho...\n",
      "dtype: object\n"
     ]
    }
   ],
   "source": [
    "# Making a new row containing the total count of violation description across all boroughs\n",
    "violation_description_df.loc['violationFrequency'] = violation_description_df.sum(numeric_only=True, axis=0)\n",
    "\n",
    "# Normalizing count across all violations in each borough\n",
    "violation_description_df.loc[:,'\\x1aChoking first aid\\x1a poster not posted. \\x1aAlcohol and pregnancy\\x1a warning sign not posted. Resuscitation equipment: exhaled air resuscitation masks (adult & pediatric), latex gloves, sign not posted. Inspection report sign not posted.':] = violation_description_df.loc[:,'\\x1aChoking first aid\\x1a poster not posted. \\x1aAlcohol and pregnancy\\x1a warning sign not posted. Resuscitation equipment: exhaled air resuscitation masks (adult & pediatric), latex gloves, sign not posted. Inspection report sign not posted.':]/violation_description_df.iloc[-1]['\\x1aChoking first aid\\x1a poster not posted. \\x1aAlcohol and pregnancy\\x1a warning sign not posted. Resuscitation equipment: exhaled air resuscitation masks (adult & pediatric), latex gloves, sign not posted. Inspection report sign not posted.':]\n",
    "display(violation_description_df)\n",
    "\n",
    "# Finding out the violation description most prevalant in each borough after normalization\n",
    "maxValueIndex = violation_description_df.idxmax(axis = 1)\n",
    " \n",
    "print(\"Max values of row are at following columns :\")\n",
    "print(maxValueIndex)"
   ]
  },
  {
   "cell_type": "markdown",
   "metadata": {},
   "source": [
    "#### Task 13: How many phone area codes correspond to a single zipcode? \n",
    "The first three digits of the restaurant phone numbers are their area codes. The area codes do not generally align with zip codes, but some area codes are only for a single zip code. You must figure out how many area codes have this property.\n",
    "• To extract the first 3 characters of the phone number, recall that strings are pretty similar to lists."
   ]
  },
  {
   "cell_type": "code",
   "execution_count": 16,
   "metadata": {},
   "outputs": [
    {
     "data": {
      "text/plain": [
       "34"
      ]
     },
     "execution_count": 16,
     "metadata": {},
     "output_type": "execute_result"
    }
   ],
   "source": [
    "# Extracting first 3 digits\n",
    "df['AREACODE'] = df['PHONE'].str.extract(r'(\\d{1,3})') \n",
    "\n",
    "# Checking if a particular AREA CODE is mapped only to one ZIPCODE\n",
    "sum(df[['AREACODE','ZIPCODE']].drop_duplicates()['AREACODE'].value_counts()==1) "
   ]
  },
  {
   "cell_type": "markdown",
   "metadata": {},
   "source": [
    "#### Task 14: Find common misspellings of street names \n",
    "Sometimes, it’s Avenue, and sometimes, it’s Ave. We will try to come up with an automated way to find common misspellings. The idea is the following: if Ave and Avenue are the same, they should show up often in similar-sounding street names, e.g., Lexington Ave and Lexington Avenue.\n",
    "\n",
    "• Create a new column, called STREET TYPE, which is the the last word in the name of the street. For example, if the street is “Astoria Boule- vard”, the street type should be “Boulevard”.\n",
    "\n",
    "• Create another column, called STREET BASE, which contains everything but the last word in the name of the street. For example, if the street is “Astoria Boulevard”, the street base should be “Astoria”.\n",
    "\n",
    "• Create a third column, called STREET BASE & ZIP, that combines the street base and the zipcode.\n",
    "\n",
    "• Create a table containing just these three columns, and remove any duplicates or instances where street base is empty. This table now contains unique street names, along with the street type.\n",
    "\n",
    "• Merge this table with itself, on the STREET BASE & ZIP column. Thus, in the new merged tabled, we will have two STREET TYPE fields for each street base and zipcode. For example, if both Lexington Ave and Lexington Avenue exist in the same zipcode, we will get a row for the street base Lexington and the two street types Ave and Avenue.\n",
    "\n",
    "• From the merged table, select only the rows where the street types are different.\n",
    "\n",
    "• Now, do a cross-tabulation of the two distinct street types (check out the crosstab function in Pandas). This gives us the number of times Ave and Avenue were used with the same STREET BASE & ZIP.\n",
    "\n",
    "• From this cross-tabulation table, find the most commonly street type that occurs with each of the following: AVE, ST, RD, PL, BOULEARD, and BULEVARD."
   ]
  },
  {
   "cell_type": "code",
   "execution_count": 17,
   "metadata": {},
   "outputs": [
    {
     "data": {
      "text/plain": [
       "[('AVE', 'AVENUE'),\n",
       " ('ST', 'STREET'),\n",
       " ('RD', 'ROAD'),\n",
       " ('PL', 'PLACE'),\n",
       " ('BLVD', 'BOULEARD'),\n",
       " ('BLVD', 'BULEVARD')]"
      ]
     },
     "execution_count": 17,
     "metadata": {},
     "output_type": "execute_result"
    }
   ],
   "source": [
    "df['STREET TYPE'] = df['STREET'].str.split(\" \").str[-1]\n",
    "df['STREET BASE'] = df['STREET'].str.split(\" \").str[0:-1].apply(' '.join)\n",
    "df['STREET BASE & ZIP'] = df['STREET BASE'] + \" \" + df['ZIPCODE']\n",
    "\n",
    "df3 = df [['STREET TYPE', 'STREET BASE', 'STREET BASE & ZIP']]\n",
    "df3 = df3.replace('', np.nan)\n",
    "df3 = df3[df3['STREET BASE'].notnull()]\n",
    "df3 =  df3.drop_duplicates(subset = ['STREET TYPE','STREET BASE', 'STREET BASE & ZIP'])\n",
    "\n",
    "df4 = df3.merge(df3, left_on = ['STREET BASE & ZIP', 'STREET BASE'],\n",
    "                                                      right_on = ['STREET BASE & ZIP', 'STREET BASE'])\n",
    "\n",
    "diff = df4[df4['STREET TYPE_x'] != df4['STREET TYPE_y']]\n",
    "ct = pd.crosstab(diff['STREET TYPE_x'],diff['STREET TYPE_y'])\n",
    "\n",
    "street_type = ['AVE', 'ST', 'RD', 'PL', 'BOULEARD', 'BULEVARD']\n",
    "for i in street_type:\n",
    "    print([i, ct[i].idxmax()])"
   ]
  }
 ],
 "metadata": {
  "kernelspec": {
   "display_name": "Python 3",
   "language": "python",
   "name": "python3"
  },
  "language_info": {
   "codemirror_mode": {
    "name": "ipython",
    "version": 3
   },
   "file_extension": ".py",
   "mimetype": "text/x-python",
   "name": "python",
   "nbconvert_exporter": "python",
   "pygments_lexer": "ipython3",
   "version": "3.7.6"
  }
 },
 "nbformat": 4,
 "nbformat_minor": 4
}
